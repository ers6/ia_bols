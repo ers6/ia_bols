{
 "cells": [
  {
   "cell_type": "code",
   "execution_count": 1,
   "id": "0e881602",
   "metadata": {},
   "outputs": [],
   "source": [
    "import pandas as pd"
   ]
  },
  {
   "cell_type": "code",
   "execution_count": 10,
   "id": "7081be9f",
   "metadata": {},
   "outputs": [],
   "source": [
    "scanner_df = pd.read_csv(\"/Users/elizabethschwartz/Documents/access-ia-metadata-records/data/scanner-table-test.csv\")\n",
    "sponsor_df = pd.read_csv(\"/Users/elizabethschwartz/Documents/access-ia-metadata-records/data/sponsor-table-test.csv\")\n",
    "merged = scanner_df.merge(sponsor_df, on='identifier', how='left')\n"
   ]
  },
  {
   "cell_type": "code",
   "execution_count": 11,
   "id": "1b0e8315",
   "metadata": {},
   "outputs": [
    {
     "data": {
      "text/html": [
       "<div>\n",
       "<style scoped>\n",
       "    .dataframe tbody tr th:only-of-type {\n",
       "        vertical-align: middle;\n",
       "    }\n",
       "\n",
       "    .dataframe tbody tr th {\n",
       "        vertical-align: top;\n",
       "    }\n",
       "\n",
       "    .dataframe thead th {\n",
       "        text-align: right;\n",
       "    }\n",
       "</style>\n",
       "<table border=\"1\" class=\"dataframe\">\n",
       "  <thead>\n",
       "    <tr style=\"text-align: right;\">\n",
       "      <th></th>\n",
       "      <th>identifier</th>\n",
       "      <th>scanner</th>\n",
       "      <th>sponsor</th>\n",
       "    </tr>\n",
       "  </thead>\n",
       "  <tbody>\n",
       "    <tr>\n",
       "      <th>0</th>\n",
       "      <td>strangewind00jeff</td>\n",
       "      <td>ttscribe25.hongkong.archive.org</td>\n",
       "      <td>Kahle/Austin Foundation</td>\n",
       "    </tr>\n",
       "    <tr>\n",
       "      <th>1</th>\n",
       "      <td>64sonnets0000keat</td>\n",
       "      <td>ttscribe11.hongkong.archive.org</td>\n",
       "      <td>Kahle/Austin Foundation</td>\n",
       "    </tr>\n",
       "    <tr>\n",
       "      <th>2</th>\n",
       "      <td>7dayslimdowndrop0000bowm</td>\n",
       "      <td>ttscribe20.hongkong.archive.org</td>\n",
       "      <td>Kahle/Austin Foundation</td>\n",
       "    </tr>\n",
       "    <tr>\n",
       "      <th>3</th>\n",
       "      <td>7levelsofchangeg0000smit</td>\n",
       "      <td>ttscribe23.hongkong.archive.org</td>\n",
       "      <td>Kahle/Austin Foundation</td>\n",
       "    </tr>\n",
       "    <tr>\n",
       "      <th>4</th>\n",
       "      <td>275corporatereal00</td>\n",
       "      <td>ttscribe5.hongkong.archive.org</td>\n",
       "      <td>NaN</td>\n",
       "    </tr>\n",
       "  </tbody>\n",
       "</table>\n",
       "</div>"
      ],
      "text/plain": [
       "                 identifier                          scanner  \\\n",
       "0         strangewind00jeff  ttscribe25.hongkong.archive.org   \n",
       "1         64sonnets0000keat  ttscribe11.hongkong.archive.org   \n",
       "2  7dayslimdowndrop0000bowm  ttscribe20.hongkong.archive.org   \n",
       "3  7levelsofchangeg0000smit  ttscribe23.hongkong.archive.org   \n",
       "4        275corporatereal00   ttscribe5.hongkong.archive.org   \n",
       "\n",
       "                   sponsor  \n",
       "0  Kahle/Austin Foundation  \n",
       "1  Kahle/Austin Foundation  \n",
       "2  Kahle/Austin Foundation  \n",
       "3  Kahle/Austin Foundation  \n",
       "4                      NaN  "
      ]
     },
     "execution_count": 11,
     "metadata": {},
     "output_type": "execute_result"
    }
   ],
   "source": [
    "merged"
   ]
  },
  {
   "cell_type": "code",
   "execution_count": null,
   "id": "ff90c406",
   "metadata": {},
   "outputs": [],
   "source": []
  }
 ],
 "metadata": {
  "kernelspec": {
   "display_name": "Python 3 (ipykernel)",
   "language": "python",
   "name": "python3"
  },
  "language_info": {
   "codemirror_mode": {
    "name": "ipython",
    "version": 3
   },
   "file_extension": ".py",
   "mimetype": "text/x-python",
   "name": "python",
   "nbconvert_exporter": "python",
   "pygments_lexer": "ipython3",
   "version": "3.8.15"
  }
 },
 "nbformat": 4,
 "nbformat_minor": 5
}
