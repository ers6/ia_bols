{
 "cells": [
  {
   "cell_type": "code",
   "execution_count": 1,
   "id": "4703f0df",
   "metadata": {},
   "outputs": [],
   "source": [
    "import pandas as pd\n",
    "import os\n",
    "import ast"
   ]
  },
  {
   "cell_type": "markdown",
   "id": "adf28a0f",
   "metadata": {},
   "source": [
    "## cebu scans\n",
    "handling these separately because there are way too many of them"
   ]
  },
  {
   "cell_type": "code",
   "execution_count": 2,
   "id": "8e6f3acd",
   "metadata": {},
   "outputs": [],
   "source": [
    "file_name = '/Users/elizabethschwartz/Documents/spring_2023/culture_at_scale/ia_infrastructure_proj/get_scandates/scandates.txt'"
   ]
  },
  {
   "cell_type": "code",
   "execution_count": 4,
   "id": "c254aefc",
   "metadata": {},
   "outputs": [
    {
     "name": "stdout",
     "output_type": "stream",
     "text": [
      "File Size is 103.13106346130371 MB\n"
     ]
    }
   ],
   "source": [
    "\n",
    "print(f'File Size is {os.stat(file_name).st_size / (1024 * 1024)} MB')"
   ]
  },
  {
   "cell_type": "code",
   "execution_count": 5,
   "id": "725d4758",
   "metadata": {},
   "outputs": [],
   "source": [
    "txt_file = open(file_name, 'r')\n",
    "text= txt_file.read()"
   ]
  },
  {
   "cell_type": "code",
   "execution_count": 6,
   "id": "ce441abb",
   "metadata": {},
   "outputs": [],
   "source": [
    "text = text.split(',')"
   ]
  },
  {
   "cell_type": "code",
   "execution_count": 7,
   "id": "f31d33de",
   "metadata": {},
   "outputs": [],
   "source": [
    "text[5545512] = '{\"scandate\":\"20220504133448\"}'"
   ]
  },
  {
   "cell_type": "code",
   "execution_count": null,
   "id": "8ef80108",
   "metadata": {},
   "outputs": [],
   "source": []
  },
  {
   "cell_type": "code",
   "execution_count": 8,
   "id": "c7c023ee",
   "metadata": {},
   "outputs": [],
   "source": [
    "\n",
    "\n",
    "records = []\n",
    "for item in text: \n",
    "    if item == '{}':\n",
    "        pass\n",
    "    else:\n",
    "        records.append(ast.literal_eval(item))"
   ]
  },
  {
   "cell_type": "code",
   "execution_count": 9,
   "id": "31eac252",
   "metadata": {},
   "outputs": [
    {
     "data": {
      "text/plain": [
       "{'scandate': '20191022183523'}"
      ]
     },
     "execution_count": 9,
     "metadata": {},
     "output_type": "execute_result"
    }
   ],
   "source": [
    "records[0]"
   ]
  },
  {
   "cell_type": "code",
   "execution_count": 21,
   "id": "c5b57114",
   "metadata": {},
   "outputs": [],
   "source": [
    "cebu_df = pd.DataFrame(records)"
   ]
  },
  {
   "cell_type": "code",
   "execution_count": 22,
   "id": "e61b2d85",
   "metadata": {},
   "outputs": [
    {
     "data": {
      "text/html": [
       "<div>\n",
       "<style scoped>\n",
       "    .dataframe tbody tr th:only-of-type {\n",
       "        vertical-align: middle;\n",
       "    }\n",
       "\n",
       "    .dataframe tbody tr th {\n",
       "        vertical-align: top;\n",
       "    }\n",
       "\n",
       "    .dataframe thead th {\n",
       "        text-align: right;\n",
       "    }\n",
       "</style>\n",
       "<table border=\"1\" class=\"dataframe\">\n",
       "  <thead>\n",
       "    <tr style=\"text-align: right;\">\n",
       "      <th></th>\n",
       "      <th>scandate</th>\n",
       "    </tr>\n",
       "  </thead>\n",
       "  <tbody>\n",
       "    <tr>\n",
       "      <th>0</th>\n",
       "      <td>20191022183523</td>\n",
       "    </tr>\n",
       "    <tr>\n",
       "      <th>1</th>\n",
       "      <td>20220622040016</td>\n",
       "    </tr>\n",
       "    <tr>\n",
       "      <th>2</th>\n",
       "      <td>20210107052812</td>\n",
       "    </tr>\n",
       "    <tr>\n",
       "      <th>3</th>\n",
       "      <td>20200213030655</td>\n",
       "    </tr>\n",
       "    <tr>\n",
       "      <th>4</th>\n",
       "      <td>20200107051727</td>\n",
       "    </tr>\n",
       "    <tr>\n",
       "      <th>...</th>\n",
       "      <td>...</td>\n",
       "    </tr>\n",
       "    <tr>\n",
       "      <th>3389040</th>\n",
       "      <td>20200908111957</td>\n",
       "    </tr>\n",
       "    <tr>\n",
       "      <th>3389041</th>\n",
       "      <td>20201116185924</td>\n",
       "    </tr>\n",
       "    <tr>\n",
       "      <th>3389042</th>\n",
       "      <td>20210901103826</td>\n",
       "    </tr>\n",
       "    <tr>\n",
       "      <th>3389043</th>\n",
       "      <td>20201203032417</td>\n",
       "    </tr>\n",
       "    <tr>\n",
       "      <th>3389044</th>\n",
       "      <td>20220504133448</td>\n",
       "    </tr>\n",
       "  </tbody>\n",
       "</table>\n",
       "<p>3389045 rows × 1 columns</p>\n",
       "</div>"
      ],
      "text/plain": [
       "               scandate\n",
       "0        20191022183523\n",
       "1        20220622040016\n",
       "2        20210107052812\n",
       "3        20200213030655\n",
       "4        20200107051727\n",
       "...                 ...\n",
       "3389040  20200908111957\n",
       "3389041  20201116185924\n",
       "3389042  20210901103826\n",
       "3389043  20201203032417\n",
       "3389044  20220504133448\n",
       "\n",
       "[3389045 rows x 1 columns]"
      ]
     },
     "execution_count": 22,
     "metadata": {},
     "output_type": "execute_result"
    }
   ],
   "source": [
    "cebu_df"
   ]
  },
  {
   "cell_type": "code",
   "execution_count": 23,
   "id": "145ed918",
   "metadata": {},
   "outputs": [],
   "source": [
    "cebu_df['scandate'] = pd.to_datetime(cebu_df['scandate'], format='%Y%m%d%H%M%S')"
   ]
  },
  {
   "cell_type": "code",
   "execution_count": 24,
   "id": "2acc40e3",
   "metadata": {},
   "outputs": [],
   "source": [
    "cebu_df['month_year'] = pd.to_datetime(cebu_df['scandate']).dt.to_period('M')"
   ]
  },
  {
   "cell_type": "code",
   "execution_count": 27,
   "id": "c487b907",
   "metadata": {},
   "outputs": [],
   "source": [
    "cebu_scan_counts = cebu_df.groupby(cebu_df['month_year']).count()"
   ]
  },
  {
   "cell_type": "code",
   "execution_count": 29,
   "id": "b0204802",
   "metadata": {},
   "outputs": [
    {
     "data": {
      "text/plain": [
       "56"
      ]
     },
     "execution_count": 29,
     "metadata": {},
     "output_type": "execute_result"
    }
   ],
   "source": [
    "len(cebu_scan_counts)"
   ]
  },
  {
   "cell_type": "markdown",
   "id": "0364d874",
   "metadata": {},
   "source": []
  },
  {
   "cell_type": "code",
   "execution_count": 30,
   "id": "1a5a9bc8",
   "metadata": {},
   "outputs": [],
   "source": [
    "cebu_scan_counts.to_csv(\"/Users/elizabethschwartz/Documents/spring_2023/culture_at_scale/ia_infrastructure_proj/scandates/cebu_scan_counts.csv\")"
   ]
  },
  {
   "cell_type": "markdown",
   "id": "cff7af84",
   "metadata": {},
   "source": [
    "## Datum Data and Hong Kong\n",
    "Handled together because their files are the same size and structure"
   ]
  },
  {
   "cell_type": "code",
   "execution_count": 32,
   "id": "ee8c8601",
   "metadata": {},
   "outputs": [],
   "source": [
    "import json"
   ]
  },
  {
   "cell_type": "code",
   "execution_count": 77,
   "id": "e6258022",
   "metadata": {},
   "outputs": [],
   "source": [
    "datum_data_file = '/Users/elizabethschwartz/Documents/spring_2023/culture_at_scale/ia_infrastructure_proj/scandates/shenzhen_scandates.json'"
   ]
  },
  {
   "cell_type": "code",
   "execution_count": 78,
   "id": "d0a9c899",
   "metadata": {},
   "outputs": [],
   "source": [
    "with open(datum_data_file, 'r') as f:\n",
    "  datum_data = json.load(f)"
   ]
  },
  {
   "cell_type": "code",
   "execution_count": 79,
   "id": "8ec92b5b",
   "metadata": {},
   "outputs": [],
   "source": [
    "datum_data = datum_data[\"docs\"]"
   ]
  },
  {
   "cell_type": "code",
   "execution_count": 80,
   "id": "267b77ba",
   "metadata": {},
   "outputs": [],
   "source": [
    "shenzhen_df = pd.DataFrame(datum_data)"
   ]
  },
  {
   "cell_type": "code",
   "execution_count": 81,
   "id": "0d4222a0",
   "metadata": {},
   "outputs": [
    {
     "data": {
      "text/html": [
       "<div>\n",
       "<style scoped>\n",
       "    .dataframe tbody tr th:only-of-type {\n",
       "        vertical-align: middle;\n",
       "    }\n",
       "\n",
       "    .dataframe tbody tr th {\n",
       "        vertical-align: top;\n",
       "    }\n",
       "\n",
       "    .dataframe thead th {\n",
       "        text-align: right;\n",
       "    }\n",
       "</style>\n",
       "<table border=\"1\" class=\"dataframe\">\n",
       "  <thead>\n",
       "    <tr style=\"text-align: right;\">\n",
       "      <th></th>\n",
       "      <th>scandate</th>\n",
       "    </tr>\n",
       "  </thead>\n",
       "  <tbody>\n",
       "    <tr>\n",
       "      <th>0</th>\n",
       "      <td>20120910041219</td>\n",
       "    </tr>\n",
       "    <tr>\n",
       "      <th>1</th>\n",
       "      <td>20111126232701</td>\n",
       "    </tr>\n",
       "    <tr>\n",
       "      <th>2</th>\n",
       "      <td>20111020060201</td>\n",
       "    </tr>\n",
       "    <tr>\n",
       "      <th>3</th>\n",
       "      <td>20121210013914</td>\n",
       "    </tr>\n",
       "    <tr>\n",
       "      <th>4</th>\n",
       "      <td>20110331180721</td>\n",
       "    </tr>\n",
       "    <tr>\n",
       "      <th>...</th>\n",
       "      <td>...</td>\n",
       "    </tr>\n",
       "    <tr>\n",
       "      <th>402412</th>\n",
       "      <td>20140118102216</td>\n",
       "    </tr>\n",
       "    <tr>\n",
       "      <th>402413</th>\n",
       "      <td>20110506081056</td>\n",
       "    </tr>\n",
       "    <tr>\n",
       "      <th>402414</th>\n",
       "      <td>20120517015833</td>\n",
       "    </tr>\n",
       "    <tr>\n",
       "      <th>402415</th>\n",
       "      <td>20120330072616</td>\n",
       "    </tr>\n",
       "    <tr>\n",
       "      <th>402416</th>\n",
       "      <td>20120913020042</td>\n",
       "    </tr>\n",
       "  </tbody>\n",
       "</table>\n",
       "<p>402417 rows × 1 columns</p>\n",
       "</div>"
      ],
      "text/plain": [
       "              scandate\n",
       "0       20120910041219\n",
       "1       20111126232701\n",
       "2       20111020060201\n",
       "3       20121210013914\n",
       "4       20110331180721\n",
       "...                ...\n",
       "402412  20140118102216\n",
       "402413  20110506081056\n",
       "402414  20120517015833\n",
       "402415  20120330072616\n",
       "402416  20120913020042\n",
       "\n",
       "[402417 rows x 1 columns]"
      ]
     },
     "execution_count": 81,
     "metadata": {},
     "output_type": "execute_result"
    }
   ],
   "source": [
    "shenzhen_df"
   ]
  },
  {
   "cell_type": "code",
   "execution_count": 82,
   "id": "1e112dbb",
   "metadata": {},
   "outputs": [],
   "source": [
    "hongkong_file = \"/Users/elizabethschwartz/Documents/spring_2023/culture_at_scale/ia_infrastructure_proj/scandates/hongkong_scandates.json\""
   ]
  },
  {
   "cell_type": "code",
   "execution_count": 83,
   "id": "8d507412",
   "metadata": {},
   "outputs": [],
   "source": [
    "with open(hongkong_file, 'r') as f:\n",
    "  hongkong = json.load(f)"
   ]
  },
  {
   "cell_type": "code",
   "execution_count": 84,
   "id": "b42ec30d",
   "metadata": {},
   "outputs": [],
   "source": [
    "hongkong = hongkong[\"docs\"]"
   ]
  },
  {
   "cell_type": "code",
   "execution_count": 85,
   "id": "7b5728aa",
   "metadata": {},
   "outputs": [],
   "source": [
    "hongkong_df = pd.DataFrame(hongkong)"
   ]
  },
  {
   "cell_type": "code",
   "execution_count": 91,
   "id": "e236551a",
   "metadata": {},
   "outputs": [],
   "source": [
    "shenzhen_df['scandate'] = pd.to_datetime(shenzhen_df['scandate'], format='%Y%m%d%H%M%S')\n",
    "hongkong_df['scandate'] = pd.to_datetime(hongkong_df['scandate'], format='%Y%m%d%H%M%S', errors=\"coerce\")"
   ]
  },
  {
   "cell_type": "code",
   "execution_count": 92,
   "id": "adb42b7c",
   "metadata": {},
   "outputs": [],
   "source": [
    "shenzhen_df['month_year'] = pd.to_datetime(shenzhen_df['scandate']).dt.to_period('M')\n",
    "hongkong_df['month_year'] = pd.to_datetime(hongkong_df['scandate']).dt.to_period('M')"
   ]
  },
  {
   "cell_type": "code",
   "execution_count": 93,
   "id": "efedb7b5",
   "metadata": {},
   "outputs": [
    {
     "data": {
      "text/html": [
       "<div>\n",
       "<style scoped>\n",
       "    .dataframe tbody tr th:only-of-type {\n",
       "        vertical-align: middle;\n",
       "    }\n",
       "\n",
       "    .dataframe tbody tr th {\n",
       "        vertical-align: top;\n",
       "    }\n",
       "\n",
       "    .dataframe thead th {\n",
       "        text-align: right;\n",
       "    }\n",
       "</style>\n",
       "<table border=\"1\" class=\"dataframe\">\n",
       "  <thead>\n",
       "    <tr style=\"text-align: right;\">\n",
       "      <th></th>\n",
       "      <th>scandate</th>\n",
       "      <th>month_year</th>\n",
       "    </tr>\n",
       "  </thead>\n",
       "  <tbody>\n",
       "    <tr>\n",
       "      <th>0</th>\n",
       "      <td>2012-09-10 04:12:19</td>\n",
       "      <td>2012-09</td>\n",
       "    </tr>\n",
       "    <tr>\n",
       "      <th>1</th>\n",
       "      <td>2011-11-26 23:27:01</td>\n",
       "      <td>2011-11</td>\n",
       "    </tr>\n",
       "    <tr>\n",
       "      <th>2</th>\n",
       "      <td>2011-10-20 06:02:01</td>\n",
       "      <td>2011-10</td>\n",
       "    </tr>\n",
       "    <tr>\n",
       "      <th>3</th>\n",
       "      <td>2012-12-10 01:39:14</td>\n",
       "      <td>2012-12</td>\n",
       "    </tr>\n",
       "    <tr>\n",
       "      <th>4</th>\n",
       "      <td>2011-03-31 18:07:21</td>\n",
       "      <td>2011-03</td>\n",
       "    </tr>\n",
       "    <tr>\n",
       "      <th>...</th>\n",
       "      <td>...</td>\n",
       "      <td>...</td>\n",
       "    </tr>\n",
       "    <tr>\n",
       "      <th>402412</th>\n",
       "      <td>2014-01-18 10:22:16</td>\n",
       "      <td>2014-01</td>\n",
       "    </tr>\n",
       "    <tr>\n",
       "      <th>402413</th>\n",
       "      <td>2011-05-06 08:10:56</td>\n",
       "      <td>2011-05</td>\n",
       "    </tr>\n",
       "    <tr>\n",
       "      <th>402414</th>\n",
       "      <td>2012-05-17 01:58:33</td>\n",
       "      <td>2012-05</td>\n",
       "    </tr>\n",
       "    <tr>\n",
       "      <th>402415</th>\n",
       "      <td>2012-03-30 07:26:16</td>\n",
       "      <td>2012-03</td>\n",
       "    </tr>\n",
       "    <tr>\n",
       "      <th>402416</th>\n",
       "      <td>2012-09-13 02:00:42</td>\n",
       "      <td>2012-09</td>\n",
       "    </tr>\n",
       "  </tbody>\n",
       "</table>\n",
       "<p>402417 rows × 2 columns</p>\n",
       "</div>"
      ],
      "text/plain": [
       "                  scandate month_year\n",
       "0      2012-09-10 04:12:19    2012-09\n",
       "1      2011-11-26 23:27:01    2011-11\n",
       "2      2011-10-20 06:02:01    2011-10\n",
       "3      2012-12-10 01:39:14    2012-12\n",
       "4      2011-03-31 18:07:21    2011-03\n",
       "...                    ...        ...\n",
       "402412 2014-01-18 10:22:16    2014-01\n",
       "402413 2011-05-06 08:10:56    2011-05\n",
       "402414 2012-05-17 01:58:33    2012-05\n",
       "402415 2012-03-30 07:26:16    2012-03\n",
       "402416 2012-09-13 02:00:42    2012-09\n",
       "\n",
       "[402417 rows x 2 columns]"
      ]
     },
     "execution_count": 93,
     "metadata": {},
     "output_type": "execute_result"
    }
   ],
   "source": [
    "shenzhen_df"
   ]
  },
  {
   "cell_type": "code",
   "execution_count": 94,
   "id": "36968e0a",
   "metadata": {},
   "outputs": [],
   "source": [
    "shenzhen_scan_counts = shenzhen_df.groupby(shenzhen_df['month_year']).count()\n",
    "hongkong_scan_counts = hongkong_df.groupby(hongkong_df['month_year']).count()"
   ]
  },
  {
   "cell_type": "code",
   "execution_count": 95,
   "id": "e6943a24",
   "metadata": {},
   "outputs": [
    {
     "data": {
      "text/html": [
       "<div>\n",
       "<style scoped>\n",
       "    .dataframe tbody tr th:only-of-type {\n",
       "        vertical-align: middle;\n",
       "    }\n",
       "\n",
       "    .dataframe tbody tr th {\n",
       "        vertical-align: top;\n",
       "    }\n",
       "\n",
       "    .dataframe thead th {\n",
       "        text-align: right;\n",
       "    }\n",
       "</style>\n",
       "<table border=\"1\" class=\"dataframe\">\n",
       "  <thead>\n",
       "    <tr style=\"text-align: right;\">\n",
       "      <th></th>\n",
       "      <th>scandate</th>\n",
       "    </tr>\n",
       "    <tr>\n",
       "      <th>month_year</th>\n",
       "      <th></th>\n",
       "    </tr>\n",
       "  </thead>\n",
       "  <tbody>\n",
       "    <tr>\n",
       "      <th>2009-07</th>\n",
       "      <td>7</td>\n",
       "    </tr>\n",
       "    <tr>\n",
       "      <th>2010-03</th>\n",
       "      <td>3</td>\n",
       "    </tr>\n",
       "    <tr>\n",
       "      <th>2010-04</th>\n",
       "      <td>31</td>\n",
       "    </tr>\n",
       "    <tr>\n",
       "      <th>2010-07</th>\n",
       "      <td>98</td>\n",
       "    </tr>\n",
       "    <tr>\n",
       "      <th>2010-08</th>\n",
       "      <td>286</td>\n",
       "    </tr>\n",
       "    <tr>\n",
       "      <th>...</th>\n",
       "      <td>...</td>\n",
       "    </tr>\n",
       "    <tr>\n",
       "      <th>2016-11</th>\n",
       "      <td>12</td>\n",
       "    </tr>\n",
       "    <tr>\n",
       "      <th>2016-12</th>\n",
       "      <td>19</td>\n",
       "    </tr>\n",
       "    <tr>\n",
       "      <th>2017-04</th>\n",
       "      <td>8</td>\n",
       "    </tr>\n",
       "    <tr>\n",
       "      <th>2017-05</th>\n",
       "      <td>1</td>\n",
       "    </tr>\n",
       "    <tr>\n",
       "      <th>2019-10</th>\n",
       "      <td>1</td>\n",
       "    </tr>\n",
       "  </tbody>\n",
       "</table>\n",
       "<p>83 rows × 1 columns</p>\n",
       "</div>"
      ],
      "text/plain": [
       "            scandate\n",
       "month_year          \n",
       "2009-07            7\n",
       "2010-03            3\n",
       "2010-04           31\n",
       "2010-07           98\n",
       "2010-08          286\n",
       "...              ...\n",
       "2016-11           12\n",
       "2016-12           19\n",
       "2017-04            8\n",
       "2017-05            1\n",
       "2019-10            1\n",
       "\n",
       "[83 rows x 1 columns]"
      ]
     },
     "execution_count": 95,
     "metadata": {},
     "output_type": "execute_result"
    }
   ],
   "source": [
    "shenzhen_scan_counts"
   ]
  },
  {
   "cell_type": "code",
   "execution_count": 96,
   "id": "bb73654b",
   "metadata": {},
   "outputs": [
    {
     "data": {
      "text/html": [
       "<div>\n",
       "<style scoped>\n",
       "    .dataframe tbody tr th:only-of-type {\n",
       "        vertical-align: middle;\n",
       "    }\n",
       "\n",
       "    .dataframe tbody tr th {\n",
       "        vertical-align: top;\n",
       "    }\n",
       "\n",
       "    .dataframe thead th {\n",
       "        text-align: right;\n",
       "    }\n",
       "</style>\n",
       "<table border=\"1\" class=\"dataframe\">\n",
       "  <thead>\n",
       "    <tr style=\"text-align: right;\">\n",
       "      <th></th>\n",
       "      <th>scandate</th>\n",
       "    </tr>\n",
       "    <tr>\n",
       "      <th>month_year</th>\n",
       "      <th></th>\n",
       "    </tr>\n",
       "  </thead>\n",
       "  <tbody>\n",
       "    <tr>\n",
       "      <th>2009-08</th>\n",
       "      <td>1</td>\n",
       "    </tr>\n",
       "    <tr>\n",
       "      <th>2009-09</th>\n",
       "      <td>2</td>\n",
       "    </tr>\n",
       "    <tr>\n",
       "      <th>2009-12</th>\n",
       "      <td>1</td>\n",
       "    </tr>\n",
       "    <tr>\n",
       "      <th>2010-02</th>\n",
       "      <td>1</td>\n",
       "    </tr>\n",
       "    <tr>\n",
       "      <th>2010-06</th>\n",
       "      <td>1</td>\n",
       "    </tr>\n",
       "    <tr>\n",
       "      <th>...</th>\n",
       "      <td>...</td>\n",
       "    </tr>\n",
       "    <tr>\n",
       "      <th>2018-09</th>\n",
       "      <td>26901</td>\n",
       "    </tr>\n",
       "    <tr>\n",
       "      <th>2018-10</th>\n",
       "      <td>29563</td>\n",
       "    </tr>\n",
       "    <tr>\n",
       "      <th>2018-11</th>\n",
       "      <td>26944</td>\n",
       "    </tr>\n",
       "    <tr>\n",
       "      <th>2018-12</th>\n",
       "      <td>19350</td>\n",
       "    </tr>\n",
       "    <tr>\n",
       "      <th>2019-01</th>\n",
       "      <td>8855</td>\n",
       "    </tr>\n",
       "  </tbody>\n",
       "</table>\n",
       "<p>62 rows × 1 columns</p>\n",
       "</div>"
      ],
      "text/plain": [
       "            scandate\n",
       "month_year          \n",
       "2009-08            1\n",
       "2009-09            2\n",
       "2009-12            1\n",
       "2010-02            1\n",
       "2010-06            1\n",
       "...              ...\n",
       "2018-09        26901\n",
       "2018-10        29563\n",
       "2018-11        26944\n",
       "2018-12        19350\n",
       "2019-01         8855\n",
       "\n",
       "[62 rows x 1 columns]"
      ]
     },
     "execution_count": 96,
     "metadata": {},
     "output_type": "execute_result"
    }
   ],
   "source": [
    "hongkong_scan_counts"
   ]
  },
  {
   "cell_type": "code",
   "execution_count": 97,
   "id": "46a114f3",
   "metadata": {},
   "outputs": [],
   "source": [
    "shenzhen_scan_counts.to_csv(\"/Users/elizabethschwartz/Documents/spring_2023/culture_at_scale/ia_infrastructure_proj/scandates/shenzhen_scan_counts.csv\")"
   ]
  },
  {
   "cell_type": "code",
   "execution_count": 98,
   "id": "211554dc",
   "metadata": {},
   "outputs": [],
   "source": [
    "hongkong_scan_counts.to_csv(\"/Users/elizabethschwartz/Documents/spring_2023/culture_at_scale/ia_infrastructure_proj/scandates/hongkong_scan_counts.csv\")"
   ]
  },
  {
   "cell_type": "code",
   "execution_count": null,
   "id": "ac813835",
   "metadata": {},
   "outputs": [],
   "source": []
  }
 ],
 "metadata": {
  "kernelspec": {
   "display_name": "Python 3 (ipykernel)",
   "language": "python",
   "name": "python3"
  },
  "language_info": {
   "codemirror_mode": {
    "name": "ipython",
    "version": 3
   },
   "file_extension": ".py",
   "mimetype": "text/x-python",
   "name": "python",
   "nbconvert_exporter": "python",
   "pygments_lexer": "ipython3",
   "version": "3.8.15"
  }
 },
 "nbformat": 4,
 "nbformat_minor": 5
}
