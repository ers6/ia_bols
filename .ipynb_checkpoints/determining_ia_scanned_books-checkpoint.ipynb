{
 "cells": [
  {
   "cell_type": "markdown",
   "id": "d1227891",
   "metadata": {},
   "source": [
    "# Determining IA Scanned books\n",
    "## Problem\n",
    "Internet Archive's text archiving, containing scanned books and documents, has approximately 38 million records in it by 2023-07. However, to date the scannning labor team has only been able to identify 9 million texts by querying via scanning center: [insert he link]\n",
    "- this dataset was accumulated first by querying for all scan ids from known scanning centers unearthed through analyzing Open Library's data dumps (which contains 2 million records scanned at 64 unique centers) and cross checking these with texts included in major subcollections of the IA text collection (American Libraries, Canadian Libraries, Books by Language, etc.)\n",
    "- Through querying collections, we discovered that many of the books in IA's records were not scanned at IA scanning centers. Rather, individual users uploaded public domain books scanned for other mass digitizaiton projects including Google Books, HathiTrust, and Project Gutenberg.\n",
    "\n",
    "\n",
    "The goal of this jupyter notebook is to try and come up with a more-definitive list of books included in IA's collections that were scanned by IA-employed workers at IA scanning centers. \n",
    "\n",
    "## Experimental Design\n",
    "\n",
    "To do so, I, first, queried IA's advanced search database for texts where the uploader field contained the string \"@archive.org\" using the below html query: https://archive.org/advancedsearch.php?q=mediatype%3A%28texts%29&uploader%3A%28%40archive.org%29&fl%5B%5D=identifier&rows=14000000&output=csv&callback=callback&save=no\n",
    "\n",
    "Unlike the scanning center field, which is optional across all IA media, the uploader is a required metadata field for all items in IA's collection. It is not usually displayed on the resource page; rather, it is stored in the meta.xml metadata file for the item. The uploader field stores the email address affiliated with the account of the person responsible for uploading an item. IA's software automatically assigns it. See details about field below or by visiting IA's documentation: **uploader**\n",
    "- internal use only: Yes\n",
    "- usage notes: The uploader field determines which account has full access to modify/edit/delete metadata and files from the item without having any special privileges granted. Any other account that wants to modify this item must have some level of administrative privilege granted by Internet Archive.\n",
    "- definition: Email address of the account that uploaded the item to archive.org.\n",
    "- required: Yes\n",
    "- label: Item Uploader\n",
    "- repeatable: No\n",
    "- accepted values: Email address\n",
    "- edit access: IA admin\n",
    "- defined by: IA software\n",
    "- example: footage@panix.com\n",
    "\n",
    "## Hypothesis\n",
    "Theoretically, all IA employees who are scanning materials at IA scanning centers should be issued an interet archive email address associated with their account. Therefore, this jupyter notebook will test the hypothesis that all items in the 14 million records with the string \"@archive.org\" in their uploader field will also be contained within the 9 million records scanned at IA scanning centers. "
   ]
  },
  {
   "cell_type": "markdown",
   "id": "2201143d",
   "metadata": {},
   "source": [
    "## The 9 million records\n",
    "We are fairly confident the 9 million records in this csv file were scanned at IA based scanning centers. \n",
    "\n",
    "These records were discovered, first, by accessing 2 million records from Open Library's data dumps and discovering/geocoding 64 unique scanning centers. Next, we queried IA's database for records associated with each scanning center name. However, we had no reason to believe that open library's data dumps contained a text scanned at every scanning center. So, we broadened the search by querying major IA collections for the scanning center field of their contents. When a scanning center was no represented in the list gathered so far, we added it to the list of scanning centers. We performed this search for 14 IA collections: \n",
    "- americana\n",
    "- biodiversity\n",
    "- booksbylanguage_arabic\n",
    "- booksbylanguage\n",
    "- china\n",
    "- digitallibraryindia\n",
    "- europeanlibraries\n",
    "- folkscanomy\n",
    "- inlibrary\n",
    "- internetarchivebooks\n",
    "- JaiGyan\n",
    "- newspapers\n",
    "- printdisabled\n",
    "- toronto\n",
    "\n",
    "In total, we discovered 9 million records affiliated with 96 scanning centers (note these have not yet been deduplicated): 'shenzhen','hongkong','china','cebu','alberta','sfdowntown', 'tt_sanfrancisco','iala','indiana','euston','uoft','la','nj','santamonica','tt_pts','boston','beltsville','capitolhill','nyc','chapelhill','rich',\n",
    " 'richmond','richflorida','ill','il','edinburgh','sfciviccenter', 'maryland','raleigh','provo','washingtondc','tt_georgetown','sheridan','arch','miss','durham','durham2','providence','tt_providence','lond','london','manhattan','honolulu','rexburg','valencia','gainesville','tt_osu','tt_numismatic','tt_getty','tt_harvardernstmayr','pretoria','IIIT Hyderabad','CCL HYDERABAD','sacramento','beijing','tt_bangalore','tt_sok','trent','guatemala','tt_swinburne','BookScanUS','tt_amnh','harrisburg','amherst','tt_stanfordlaw','tt_pem','tt_calacademy', 'tt_jakarta','hangzhou','clemson','Osmania University','clarksville','tt_victoria','poughkeepsie','tt_warwick','tt_riks','1dollarscan (zLibro)','RMSC_IIITH','tt_stlouis','saltlakecity','tt_louisville','tt_oberlin','tt_clatsopcounty','brussels','tt_harrisburg','tt_statenisland','utah','hbl_storrs','tt_perkins','tt_harvardwidener','Hong Kong','AP Press Academy Archives','hamilton','tt_nybg','mobot','bali'"
   ]
  },
  {
   "cell_type": "code",
   "execution_count": 4,
   "id": "63e4315f",
   "metadata": {},
   "outputs": [],
   "source": [
    "import pandas as pd"
   ]
  },
  {
   "cell_type": "code",
   "execution_count": 5,
   "id": "39e53238",
   "metadata": {},
   "outputs": [
    {
     "name": "stderr",
     "output_type": "stream",
     "text": [
      "/var/folders/pl/rjmtml311bq31fb0njd03xlh0000gn/T/ipykernel_33627/1797296145.py:1: DtypeWarning: Columns (7,10) have mixed types. Specify dtype option on import or set low_memory=False.\n",
      "  centers = pd.read_csv(\"/Volumes/Samsung_T5/scanning_labor_in_IA/texts-data.csv\")\n"
     ]
    }
   ],
   "source": [
    "centers = pd.read_csv(\"/Volumes/Samsung_T5/scanning_labor_in_IA/texts-data.csv\")"
   ]
  },
  {
   "cell_type": "code",
   "execution_count": 11,
   "id": "95a6de24",
   "metadata": {},
   "outputs": [
    {
     "data": {
      "text/plain": [
       "['shenzhen',\n",
       " 'hongkong',\n",
       " 'china',\n",
       " 'cebu',\n",
       " 'alberta',\n",
       " 'sfdowntown',\n",
       " 'tt_sanfrancisco',\n",
       " 'iala',\n",
       " 'indiana',\n",
       " 'euston',\n",
       " 'uoft',\n",
       " 'la',\n",
       " 'nj',\n",
       " 'santamonica',\n",
       " 'tt_pts',\n",
       " 'boston',\n",
       " 'beltsville',\n",
       " 'capitolhill',\n",
       " 'nyc',\n",
       " 'chapelhill',\n",
       " 'rich',\n",
       " 'richmond',\n",
       " 'richflorida',\n",
       " 'ill',\n",
       " 'il',\n",
       " 'edinburgh',\n",
       " 'sfciviccenter',\n",
       " 'maryland',\n",
       " 'raleigh',\n",
       " 'provo',\n",
       " 'washingtondc',\n",
       " 'tt_georgetown',\n",
       " 'sheridan',\n",
       " 'arch',\n",
       " 'miss',\n",
       " 'durham',\n",
       " 'durham2',\n",
       " 'providence',\n",
       " 'tt_providence',\n",
       " 'lond',\n",
       " 'london',\n",
       " 'manhattan',\n",
       " 'honolulu',\n",
       " 'rexburg',\n",
       " 'valencia',\n",
       " 'gainesville',\n",
       " 'tt_osu',\n",
       " 'tt_numismatic',\n",
       " 'tt_getty',\n",
       " 'tt_harvardernstmayr',\n",
       " 'pretoria',\n",
       " 'IIIT Hyderabad',\n",
       " 'CCL HYDERABAD',\n",
       " 'sacramento',\n",
       " 'beijing',\n",
       " 'tt_bangalore',\n",
       " 'tt_sok',\n",
       " 'trent',\n",
       " 'guatemala',\n",
       " 'tt_swinburne',\n",
       " 'BookScanUS',\n",
       " 'tt_amnh',\n",
       " 'harrisburg',\n",
       " 'amherst',\n",
       " 'tt_stanfordlaw',\n",
       " 'tt_pem',\n",
       " 'tt_calacademy',\n",
       " 'tt_jakarta',\n",
       " 'hangzhou',\n",
       " 'clemson',\n",
       " 'Osmania University',\n",
       " 'clarksville',\n",
       " 'tt_victoria',\n",
       " 'poughkeepsie',\n",
       " 'tt_warwick',\n",
       " 'tt_riks',\n",
       " '1dollarscan (zLibro)',\n",
       " 'RMSC_IIITH',\n",
       " 'tt_stlouis',\n",
       " 'saltlakecity',\n",
       " 'tt_louisville',\n",
       " 'tt_oberlin',\n",
       " 'tt_clatsopcounty',\n",
       " 'brussels',\n",
       " 'tt_harrisburg',\n",
       " 'tt_statenisland',\n",
       " 'utah',\n",
       " 'hbl_storrs',\n",
       " 'tt_perkins',\n",
       " 'tt_harvardwidener',\n",
       " 'Hong Kong',\n",
       " 'AP Press Academy Archives',\n",
       " 'hamilton',\n",
       " 'tt_nybg',\n",
       " 'mobot',\n",
       " 'bali']"
      ]
     },
     "execution_count": 11,
     "metadata": {},
     "output_type": "execute_result"
    }
   ],
   "source": [
    "centers['scanningcenter'].unique().tolist()"
   ]
  },
  {
   "cell_type": "code",
   "execution_count": null,
   "id": "4f36f21c",
   "metadata": {},
   "outputs": [],
   "source": []
  }
 ],
 "metadata": {
  "kernelspec": {
   "display_name": "Python 3 (ipykernel)",
   "language": "python",
   "name": "python3"
  },
  "language_info": {
   "codemirror_mode": {
    "name": "ipython",
    "version": 3
   },
   "file_extension": ".py",
   "mimetype": "text/x-python",
   "name": "python",
   "nbconvert_exporter": "python",
   "pygments_lexer": "ipython3",
   "version": "3.8.15"
  }
 },
 "nbformat": 4,
 "nbformat_minor": 5
}
